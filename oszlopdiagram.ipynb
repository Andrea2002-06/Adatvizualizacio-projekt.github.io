{
 "cells": [
  {
   "cell_type": "code",
   "execution_count": 3,
   "metadata": {},
   "outputs": [],
   "source": [
    "import pandas as pd\n",
    "import plotly.express as px"
   ]
  },
  {
   "cell_type": "code",
   "execution_count": 4,
   "metadata": {},
   "outputs": [
    {
     "data": {
      "application/vnd.plotly.v1+json": {
       "config": {
        "plotlyServerURL": "https://plot.ly"
       },
       "data": [
        {
         "hovertemplate": "Város=%{y}<br>Év=2020<br>Bérleti díj (€/hó)=%{x}<extra></extra>",
         "legendgroup": "Amszterdam",
         "marker": {
          "color": "#7c8558",
          "pattern": {
           "shape": ""
          }
         },
         "name": "Amszterdam",
         "orientation": "h",
         "showlegend": true,
         "textposition": "auto",
         "type": "bar",
         "x": {
          "bdata": "jC666KI7jEA=",
          "dtype": "f8"
         },
         "xaxis": "x",
         "y": [
          "Amszterdam"
         ],
         "yaxis": "y"
        },
        {
         "hovertemplate": "Város=%{y}<br>Év=2020<br>Bérleti díj (€/hó)=%{x}<extra></extra>",
         "legendgroup": "Athén",
         "marker": {
          "color": "#7c8558",
          "pattern": {
           "shape": ""
          }
         },
         "name": "Athén",
         "orientation": "h",
         "showlegend": true,
         "textposition": "auto",
         "type": "bar",
         "x": {
          "bdata": "zczMzMy4hkA=",
          "dtype": "f8"
         },
         "xaxis": "x",
         "y": [
          "Athén"
         ],
         "yaxis": "y"
        },
        {
         "hovertemplate": "Város=%{y}<br>Év=2020<br>Bérleti díj (€/hó)=%{x}<extra></extra>",
         "legendgroup": "Berlin",
         "marker": {
          "color": "#7c8558",
          "pattern": {
           "shape": ""
          }
         },
         "name": "Berlin",
         "orientation": "h",
         "showlegend": true,
         "textposition": "auto",
         "type": "bar",
         "x": {
          "bdata": "VVVVVVUJjEA=",
          "dtype": "f8"
         },
         "xaxis": "x",
         "y": [
          "Berlin"
         ],
         "yaxis": "y"
        },
        {
         "hovertemplate": "Város=%{y}<br>Év=2020<br>Bérleti díj (€/hó)=%{x}<extra></extra>",
         "legendgroup": "Brüsszel",
         "marker": {
          "color": "#7c8558",
          "pattern": {
           "shape": ""
          }
         },
         "name": "Brüsszel",
         "orientation": "h",
         "showlegend": true,
         "textposition": "auto",
         "type": "bar",
         "x": {
          "bdata": "L7roootejkA=",
          "dtype": "f8"
         },
         "xaxis": "x",
         "y": [
          "Brüsszel"
         ],
         "yaxis": "y"
        },
        {
         "hovertemplate": "Város=%{y}<br>Év=2020<br>Bérleti díj (€/hó)=%{x}<extra></extra>",
         "legendgroup": "Budapest",
         "marker": {
          "color": "#7c8558",
          "pattern": {
           "shape": ""
          }
         },
         "name": "Budapest",
         "orientation": "h",
         "showlegend": true,
         "textposition": "auto",
         "type": "bar",
         "x": {
          "bdata": "VVVVVVUTjkA=",
          "dtype": "f8"
         },
         "xaxis": "x",
         "y": [
          "Budapest"
         ],
         "yaxis": "y"
        },
        {
         "hovertemplate": "Város=%{y}<br>Év=2020<br>Bérleti díj (€/hó)=%{x}<extra></extra>",
         "legendgroup": "Bukarest",
         "marker": {
          "color": "#7c8558",
          "pattern": {
           "shape": ""
          }
         },
         "name": "Bukarest",
         "orientation": "h",
         "showlegend": true,
         "textposition": "auto",
         "type": "bar",
         "x": {
          "bdata": "x3Ecx3GkkEA=",
          "dtype": "f8"
         },
         "xaxis": "x",
         "y": [
          "Bukarest"
         ],
         "yaxis": "y"
        },
        {
         "hovertemplate": "Város=%{y}<br>Év=2020<br>Bérleti díj (€/hó)=%{x}<extra></extra>",
         "legendgroup": "Bécs",
         "marker": {
          "color": "#7c8558",
          "pattern": {
           "shape": ""
          }
         },
         "name": "Bécs",
         "orientation": "h",
         "showlegend": true,
         "textposition": "auto",
         "type": "bar",
         "x": {
          "bdata": "q6qqqqqQikA=",
          "dtype": "f8"
         },
         "xaxis": "x",
         "y": [
          "Bécs"
         ],
         "yaxis": "y"
        },
        {
         "hovertemplate": "Város=%{y}<br>Év=2020<br>Bérleti díj (€/hó)=%{x}<extra></extra>",
         "legendgroup": "Helsinki",
         "marker": {
          "color": "#7c8558",
          "pattern": {
           "shape": ""
          }
         },
         "name": "Helsinki",
         "orientation": "h",
         "showlegend": true,
         "textposition": "auto",
         "type": "bar",
         "x": {
          "bdata": "AAAAAAD4ikA=",
          "dtype": "f8"
         },
         "xaxis": "x",
         "y": [
          "Helsinki"
         ],
         "yaxis": "y"
        },
        {
         "hovertemplate": "Város=%{y}<br>Év=2020<br>Bérleti díj (€/hó)=%{x}<extra></extra>",
         "legendgroup": "Koppenhága",
         "marker": {
          "color": "#7c8558",
          "pattern": {
           "shape": ""
          }
         },
         "name": "Koppenhága",
         "orientation": "h",
         "showlegend": true,
         "textposition": "auto",
         "type": "bar",
         "x": {
          "bdata": "27Zt27bFi0A=",
          "dtype": "f8"
         },
         "xaxis": "x",
         "y": [
          "Koppenhága"
         ],
         "yaxis": "y"
        },
        {
         "hovertemplate": "Város=%{y}<br>Év=2020<br>Bérleti díj (€/hó)=%{x}<extra></extra>",
         "legendgroup": "Ljubljana",
         "marker": {
          "color": "#7c8558",
          "pattern": {
           "shape": ""
          }
         },
         "name": "Ljubljana",
         "orientation": "h",
         "showlegend": true,
         "textposition": "auto",
         "type": "bar",
         "x": {
          "bdata": "AAAAAADgi0A=",
          "dtype": "f8"
         },
         "xaxis": "x",
         "y": [
          "Ljubljana"
         ],
         "yaxis": "y"
        },
        {
         "hovertemplate": "Város=%{y}<br>Év=2020<br>Bérleti díj (€/hó)=%{x}<extra></extra>",
         "legendgroup": "Madrid",
         "marker": {
          "color": "#7c8558",
          "pattern": {
           "shape": ""
          }
         },
         "name": "Madrid",
         "orientation": "h",
         "showlegend": true,
         "textposition": "auto",
         "type": "bar",
         "x": {
          "bdata": "AAAAAIAWkEA=",
          "dtype": "f8"
         },
         "xaxis": "x",
         "y": [
          "Madrid"
         ],
         "yaxis": "y"
        },
        {
         "hovertemplate": "Város=%{y}<br>Év=2020<br>Bérleti díj (€/hó)=%{x}<extra></extra>",
         "legendgroup": "Oslo",
         "marker": {
          "color": "#7c8558",
          "pattern": {
           "shape": ""
          }
         },
         "name": "Oslo",
         "orientation": "h",
         "showlegend": true,
         "textposition": "auto",
         "type": "bar",
         "x": {
          "bdata": "mpmZmZlBjkA=",
          "dtype": "f8"
         },
         "xaxis": "x",
         "y": [
          "Oslo"
         ],
         "yaxis": "y"
        },
        {
         "hovertemplate": "Város=%{y}<br>Év=2020<br>Bérleti díj (€/hó)=%{x}<extra></extra>",
         "legendgroup": "Prága",
         "marker": {
          "color": "#7c8558",
          "pattern": {
           "shape": ""
          }
         },
         "name": "Prága",
         "orientation": "h",
         "showlegend": true,
         "textposition": "auto",
         "type": "bar",
         "x": {
          "bdata": "AAAAAIC2kEA=",
          "dtype": "f8"
         },
         "xaxis": "x",
         "y": [
          "Prága"
         ],
         "yaxis": "y"
        },
        {
         "hovertemplate": "Város=%{y}<br>Év=2020<br>Bérleti díj (€/hó)=%{x}<extra></extra>",
         "legendgroup": "Párizs",
         "marker": {
          "color": "#7c8558",
          "pattern": {
           "shape": ""
          }
         },
         "name": "Párizs",
         "orientation": "h",
         "showlegend": true,
         "textposition": "auto",
         "type": "bar",
         "x": {
          "bdata": "Yid2YieOiUA=",
          "dtype": "f8"
         },
         "xaxis": "x",
         "y": [
          "Párizs"
         ],
         "yaxis": "y"
        },
        {
         "hovertemplate": "Város=%{y}<br>Év=2020<br>Bérleti díj (€/hó)=%{x}<extra></extra>",
         "legendgroup": "Róma",
         "marker": {
          "color": "#7c8558",
          "pattern": {
           "shape": ""
          }
         },
         "name": "Róma",
         "orientation": "h",
         "showlegend": true,
         "textposition": "auto",
         "type": "bar",
         "x": {
          "bdata": "MzMzMzNDjkA=",
          "dtype": "f8"
         },
         "xaxis": "x",
         "y": [
          "Róma"
         ],
         "yaxis": "y"
        },
        {
         "hovertemplate": "Város=%{y}<br>Év=2020<br>Bérleti díj (€/hó)=%{x}<extra></extra>",
         "legendgroup": "Sofia",
         "marker": {
          "color": "#7c8558",
          "pattern": {
           "shape": ""
          }
         },
         "name": "Sofia",
         "orientation": "h",
         "showlegend": true,
         "textposition": "auto",
         "type": "bar",
         "x": {
          "bdata": "27Zt27bFjEA=",
          "dtype": "f8"
         },
         "xaxis": "x",
         "y": [
          "Sofia"
         ],
         "yaxis": "y"
        },
        {
         "hovertemplate": "Város=%{y}<br>Év=2020<br>Bérleti díj (€/hó)=%{x}<extra></extra>",
         "legendgroup": "Stockholm",
         "marker": {
          "color": "#7c8558",
          "pattern": {
           "shape": ""
          }
         },
         "name": "Stockholm",
         "orientation": "h",
         "showlegend": true,
         "textposition": "auto",
         "type": "bar",
         "x": {
          "bdata": "AAAAAABHjkA=",
          "dtype": "f8"
         },
         "xaxis": "x",
         "y": [
          "Stockholm"
         ],
         "yaxis": "y"
        },
        {
         "hovertemplate": "Város=%{y}<br>Év=2020<br>Bérleti díj (€/hó)=%{x}<extra></extra>",
         "legendgroup": "Tallinn",
         "marker": {
          "color": "#7c8558",
          "pattern": {
           "shape": ""
          }
         },
         "name": "Tallinn",
         "orientation": "h",
         "showlegend": true,
         "textposition": "auto",
         "type": "bar",
         "x": {
          "bdata": "ZmZmZmaGjkA=",
          "dtype": "f8"
         },
         "xaxis": "x",
         "y": [
          "Tallinn"
         ],
         "yaxis": "y"
        },
        {
         "hovertemplate": "Város=%{y}<br>Év=2020<br>Bérleti díj (€/hó)=%{x}<extra></extra>",
         "legendgroup": "Varsó",
         "marker": {
          "color": "#7c8558",
          "pattern": {
           "shape": ""
          }
         },
         "name": "Varsó",
         "orientation": "h",
         "showlegend": true,
         "textposition": "auto",
         "type": "bar",
         "x": {
          "bdata": "RhdddNH9i0A=",
          "dtype": "f8"
         },
         "xaxis": "x",
         "y": [
          "Varsó"
         ],
         "yaxis": "y"
        },
        {
         "hovertemplate": "Város=%{y}<br>Év=2020<br>Bérleti díj (€/hó)=%{x}<extra></extra>",
         "legendgroup": "Zágráb",
         "marker": {
          "color": "#7c8558",
          "pattern": {
           "shape": ""
          }
         },
         "name": "Zágráb",
         "orientation": "h",
         "showlegend": true,
         "textposition": "auto",
         "type": "bar",
         "x": {
          "bdata": "O7ETO7Fri0A=",
          "dtype": "f8"
         },
         "xaxis": "x",
         "y": [
          "Zágráb"
         ],
         "yaxis": "y"
        }
       ],
       "frames": [
        {
         "data": [
          {
           "hovertemplate": "Város=%{y}<br>Év=2020<br>Bérleti díj (€/hó)=%{x}<extra></extra>",
           "legendgroup": "Amszterdam",
           "marker": {
            "color": "#7c8558",
            "pattern": {
             "shape": ""
            }
           },
           "name": "Amszterdam",
           "orientation": "h",
           "showlegend": true,
           "textposition": "auto",
           "type": "bar",
           "x": {
            "bdata": "jC666KI7jEA=",
            "dtype": "f8"
           },
           "xaxis": "x",
           "y": [
            "Amszterdam"
           ],
           "yaxis": "y"
          },
          {
           "hovertemplate": "Város=%{y}<br>Év=2020<br>Bérleti díj (€/hó)=%{x}<extra></extra>",
           "legendgroup": "Athén",
           "marker": {
            "color": "#7c8558",
            "pattern": {
             "shape": ""
            }
           },
           "name": "Athén",
           "orientation": "h",
           "showlegend": true,
           "textposition": "auto",
           "type": "bar",
           "x": {
            "bdata": "zczMzMy4hkA=",
            "dtype": "f8"
           },
           "xaxis": "x",
           "y": [
            "Athén"
           ],
           "yaxis": "y"
          },
          {
           "hovertemplate": "Város=%{y}<br>Év=2020<br>Bérleti díj (€/hó)=%{x}<extra></extra>",
           "legendgroup": "Berlin",
           "marker": {
            "color": "#7c8558",
            "pattern": {
             "shape": ""
            }
           },
           "name": "Berlin",
           "orientation": "h",
           "showlegend": true,
           "textposition": "auto",
           "type": "bar",
           "x": {
            "bdata": "VVVVVVUJjEA=",
            "dtype": "f8"
           },
           "xaxis": "x",
           "y": [
            "Berlin"
           ],
           "yaxis": "y"
          },
          {
           "hovertemplate": "Város=%{y}<br>Év=2020<br>Bérleti díj (€/hó)=%{x}<extra></extra>",
           "legendgroup": "Brüsszel",
           "marker": {
            "color": "#7c8558",
            "pattern": {
             "shape": ""
            }
           },
           "name": "Brüsszel",
           "orientation": "h",
           "showlegend": true,
           "textposition": "auto",
           "type": "bar",
           "x": {
            "bdata": "L7roootejkA=",
            "dtype": "f8"
           },
           "xaxis": "x",
           "y": [
            "Brüsszel"
           ],
           "yaxis": "y"
          },
          {
           "hovertemplate": "Város=%{y}<br>Év=2020<br>Bérleti díj (€/hó)=%{x}<extra></extra>",
           "legendgroup": "Budapest",
           "marker": {
            "color": "#7c8558",
            "pattern": {
             "shape": ""
            }
           },
           "name": "Budapest",
           "orientation": "h",
           "showlegend": true,
           "textposition": "auto",
           "type": "bar",
           "x": {
            "bdata": "VVVVVVUTjkA=",
            "dtype": "f8"
           },
           "xaxis": "x",
           "y": [
            "Budapest"
           ],
           "yaxis": "y"
          },
          {
           "hovertemplate": "Város=%{y}<br>Év=2020<br>Bérleti díj (€/hó)=%{x}<extra></extra>",
           "legendgroup": "Bukarest",
           "marker": {
            "color": "#7c8558",
            "pattern": {
             "shape": ""
            }
           },
           "name": "Bukarest",
           "orientation": "h",
           "showlegend": true,
           "textposition": "auto",
           "type": "bar",
           "x": {
            "bdata": "x3Ecx3GkkEA=",
            "dtype": "f8"
           },
           "xaxis": "x",
           "y": [
            "Bukarest"
           ],
           "yaxis": "y"
          },
          {
           "hovertemplate": "Város=%{y}<br>Év=2020<br>Bérleti díj (€/hó)=%{x}<extra></extra>",
           "legendgroup": "Bécs",
           "marker": {
            "color": "#7c8558",
            "pattern": {
             "shape": ""
            }
           },
           "name": "Bécs",
           "orientation": "h",
           "showlegend": true,
           "textposition": "auto",
           "type": "bar",
           "x": {
            "bdata": "q6qqqqqQikA=",
            "dtype": "f8"
           },
           "xaxis": "x",
           "y": [
            "Bécs"
           ],
           "yaxis": "y"
          },
          {
           "hovertemplate": "Város=%{y}<br>Év=2020<br>Bérleti díj (€/hó)=%{x}<extra></extra>",
           "legendgroup": "Helsinki",
           "marker": {
            "color": "#7c8558",
            "pattern": {
             "shape": ""
            }
           },
           "name": "Helsinki",
           "orientation": "h",
           "showlegend": true,
           "textposition": "auto",
           "type": "bar",
           "x": {
            "bdata": "AAAAAAD4ikA=",
            "dtype": "f8"
           },
           "xaxis": "x",
           "y": [
            "Helsinki"
           ],
           "yaxis": "y"
          },
          {
           "hovertemplate": "Város=%{y}<br>Év=2020<br>Bérleti díj (€/hó)=%{x}<extra></extra>",
           "legendgroup": "Koppenhága",
           "marker": {
            "color": "#7c8558",
            "pattern": {
             "shape": ""
            }
           },
           "name": "Koppenhága",
           "orientation": "h",
           "showlegend": true,
           "textposition": "auto",
           "type": "bar",
           "x": {
            "bdata": "27Zt27bFi0A=",
            "dtype": "f8"
           },
           "xaxis": "x",
           "y": [
            "Koppenhága"
           ],
           "yaxis": "y"
          },
          {
           "hovertemplate": "Város=%{y}<br>Év=2020<br>Bérleti díj (€/hó)=%{x}<extra></extra>",
           "legendgroup": "Ljubljana",
           "marker": {
            "color": "#7c8558",
            "pattern": {
             "shape": ""
            }
           },
           "name": "Ljubljana",
           "orientation": "h",
           "showlegend": true,
           "textposition": "auto",
           "type": "bar",
           "x": {
            "bdata": "AAAAAADgi0A=",
            "dtype": "f8"
           },
           "xaxis": "x",
           "y": [
            "Ljubljana"
           ],
           "yaxis": "y"
          },
          {
           "hovertemplate": "Város=%{y}<br>Év=2020<br>Bérleti díj (€/hó)=%{x}<extra></extra>",
           "legendgroup": "Madrid",
           "marker": {
            "color": "#7c8558",
            "pattern": {
             "shape": ""
            }
           },
           "name": "Madrid",
           "orientation": "h",
           "showlegend": true,
           "textposition": "auto",
           "type": "bar",
           "x": {
            "bdata": "AAAAAIAWkEA=",
            "dtype": "f8"
           },
           "xaxis": "x",
           "y": [
            "Madrid"
           ],
           "yaxis": "y"
          },
          {
           "hovertemplate": "Város=%{y}<br>Év=2020<br>Bérleti díj (€/hó)=%{x}<extra></extra>",
           "legendgroup": "Oslo",
           "marker": {
            "color": "#7c8558",
            "pattern": {
             "shape": ""
            }
           },
           "name": "Oslo",
           "orientation": "h",
           "showlegend": true,
           "textposition": "auto",
           "type": "bar",
           "x": {
            "bdata": "mpmZmZlBjkA=",
            "dtype": "f8"
           },
           "xaxis": "x",
           "y": [
            "Oslo"
           ],
           "yaxis": "y"
          },
          {
           "hovertemplate": "Város=%{y}<br>Év=2020<br>Bérleti díj (€/hó)=%{x}<extra></extra>",
           "legendgroup": "Prága",
           "marker": {
            "color": "#7c8558",
            "pattern": {
             "shape": ""
            }
           },
           "name": "Prága",
           "orientation": "h",
           "showlegend": true,
           "textposition": "auto",
           "type": "bar",
           "x": {
            "bdata": "AAAAAIC2kEA=",
            "dtype": "f8"
           },
           "xaxis": "x",
           "y": [
            "Prága"
           ],
           "yaxis": "y"
          },
          {
           "hovertemplate": "Város=%{y}<br>Év=2020<br>Bérleti díj (€/hó)=%{x}<extra></extra>",
           "legendgroup": "Párizs",
           "marker": {
            "color": "#7c8558",
            "pattern": {
             "shape": ""
            }
           },
           "name": "Párizs",
           "orientation": "h",
           "showlegend": true,
           "textposition": "auto",
           "type": "bar",
           "x": {
            "bdata": "Yid2YieOiUA=",
            "dtype": "f8"
           },
           "xaxis": "x",
           "y": [
            "Párizs"
           ],
           "yaxis": "y"
          },
          {
           "hovertemplate": "Város=%{y}<br>Év=2020<br>Bérleti díj (€/hó)=%{x}<extra></extra>",
           "legendgroup": "Róma",
           "marker": {
            "color": "#7c8558",
            "pattern": {
             "shape": ""
            }
           },
           "name": "Róma",
           "orientation": "h",
           "showlegend": true,
           "textposition": "auto",
           "type": "bar",
           "x": {
            "bdata": "MzMzMzNDjkA=",
            "dtype": "f8"
           },
           "xaxis": "x",
           "y": [
            "Róma"
           ],
           "yaxis": "y"
          },
          {
           "hovertemplate": "Város=%{y}<br>Év=2020<br>Bérleti díj (€/hó)=%{x}<extra></extra>",
           "legendgroup": "Sofia",
           "marker": {
            "color": "#7c8558",
            "pattern": {
             "shape": ""
            }
           },
           "name": "Sofia",
           "orientation": "h",
           "showlegend": true,
           "textposition": "auto",
           "type": "bar",
           "x": {
            "bdata": "27Zt27bFjEA=",
            "dtype": "f8"
           },
           "xaxis": "x",
           "y": [
            "Sofia"
           ],
           "yaxis": "y"
          },
          {
           "hovertemplate": "Város=%{y}<br>Év=2020<br>Bérleti díj (€/hó)=%{x}<extra></extra>",
           "legendgroup": "Stockholm",
           "marker": {
            "color": "#7c8558",
            "pattern": {
             "shape": ""
            }
           },
           "name": "Stockholm",
           "orientation": "h",
           "showlegend": true,
           "textposition": "auto",
           "type": "bar",
           "x": {
            "bdata": "AAAAAABHjkA=",
            "dtype": "f8"
           },
           "xaxis": "x",
           "y": [
            "Stockholm"
           ],
           "yaxis": "y"
          },
          {
           "hovertemplate": "Város=%{y}<br>Év=2020<br>Bérleti díj (€/hó)=%{x}<extra></extra>",
           "legendgroup": "Tallinn",
           "marker": {
            "color": "#7c8558",
            "pattern": {
             "shape": ""
            }
           },
           "name": "Tallinn",
           "orientation": "h",
           "showlegend": true,
           "textposition": "auto",
           "type": "bar",
           "x": {
            "bdata": "ZmZmZmaGjkA=",
            "dtype": "f8"
           },
           "xaxis": "x",
           "y": [
            "Tallinn"
           ],
           "yaxis": "y"
          },
          {
           "hovertemplate": "Város=%{y}<br>Év=2020<br>Bérleti díj (€/hó)=%{x}<extra></extra>",
           "legendgroup": "Varsó",
           "marker": {
            "color": "#7c8558",
            "pattern": {
             "shape": ""
            }
           },
           "name": "Varsó",
           "orientation": "h",
           "showlegend": true,
           "textposition": "auto",
           "type": "bar",
           "x": {
            "bdata": "RhdddNH9i0A=",
            "dtype": "f8"
           },
           "xaxis": "x",
           "y": [
            "Varsó"
           ],
           "yaxis": "y"
          },
          {
           "hovertemplate": "Város=%{y}<br>Év=2020<br>Bérleti díj (€/hó)=%{x}<extra></extra>",
           "legendgroup": "Zágráb",
           "marker": {
            "color": "#7c8558",
            "pattern": {
             "shape": ""
            }
           },
           "name": "Zágráb",
           "orientation": "h",
           "showlegend": true,
           "textposition": "auto",
           "type": "bar",
           "x": {
            "bdata": "O7ETO7Fri0A=",
            "dtype": "f8"
           },
           "xaxis": "x",
           "y": [
            "Zágráb"
           ],
           "yaxis": "y"
          }
         ],
         "name": "2020"
        },
        {
         "data": [
          {
           "hovertemplate": "Város=%{y}<br>Év=2021<br>Bérleti díj (€/hó)=%{x}<extra></extra>",
           "legendgroup": "Amszterdam",
           "marker": {
            "color": "#7c8558",
            "pattern": {
             "shape": ""
            }
           },
           "name": "Amszterdam",
           "orientation": "h",
           "showlegend": true,
           "textposition": "auto",
           "type": "bar",
           "x": {
            "bdata": "AAAAAABSi0A=",
            "dtype": "f8"
           },
           "xaxis": "x",
           "y": [
            "Amszterdam"
           ],
           "yaxis": "y"
          },
          {
           "hovertemplate": "Város=%{y}<br>Év=2021<br>Bérleti díj (€/hó)=%{x}<extra></extra>",
           "legendgroup": "Athén",
           "marker": {
            "color": "#7c8558",
            "pattern": {
             "shape": ""
            }
           },
           "name": "Athén",
           "orientation": "h",
           "showlegend": true,
           "textposition": "auto",
           "type": "bar",
           "x": {
            "bdata": "0UUXXXQJikA=",
            "dtype": "f8"
           },
           "xaxis": "x",
           "y": [
            "Athén"
           ],
           "yaxis": "y"
          },
          {
           "hovertemplate": "Város=%{y}<br>Év=2021<br>Bérleti díj (€/hó)=%{x}<extra></extra>",
           "legendgroup": "Berlin",
           "marker": {
            "color": "#7c8558",
            "pattern": {
             "shape": ""
            }
           },
           "name": "Berlin",
           "orientation": "h",
           "showlegend": true,
           "textposition": "auto",
           "type": "bar",
           "x": {
            "bdata": "AAAAAABMi0A=",
            "dtype": "f8"
           },
           "xaxis": "x",
           "y": [
            "Berlin"
           ],
           "yaxis": "y"
          },
          {
           "hovertemplate": "Város=%{y}<br>Év=2021<br>Bérleti díj (€/hó)=%{x}<extra></extra>",
           "legendgroup": "Brüsszel",
           "marker": {
            "color": "#7c8558",
            "pattern": {
             "shape": ""
            }
           },
           "name": "Brüsszel",
           "orientation": "h",
           "showlegend": true,
           "textposition": "auto",
           "type": "bar",
           "x": {
            "bdata": "0UUXXXSpi0A=",
            "dtype": "f8"
           },
           "xaxis": "x",
           "y": [
            "Brüsszel"
           ],
           "yaxis": "y"
          },
          {
           "hovertemplate": "Város=%{y}<br>Év=2021<br>Bérleti díj (€/hó)=%{x}<extra></extra>",
           "legendgroup": "Budapest",
           "marker": {
            "color": "#7c8558",
            "pattern": {
             "shape": ""
            }
           },
           "name": "Budapest",
           "orientation": "h",
           "showlegend": true,
           "textposition": "auto",
           "type": "bar",
           "x": {
            "bdata": "AAAAAABmh0A=",
            "dtype": "f8"
           },
           "xaxis": "x",
           "y": [
            "Budapest"
           ],
           "yaxis": "y"
          },
          {
           "hovertemplate": "Város=%{y}<br>Év=2021<br>Bérleti díj (€/hó)=%{x}<extra></extra>",
           "legendgroup": "Bukarest",
           "marker": {
            "color": "#7c8558",
            "pattern": {
             "shape": ""
            }
           },
           "name": "Bukarest",
           "orientation": "h",
           "showlegend": true,
           "textposition": "auto",
           "type": "bar",
           "x": {
            "bdata": "d3d3d3cXjkA=",
            "dtype": "f8"
           },
           "xaxis": "x",
           "y": [
            "Bukarest"
           ],
           "yaxis": "y"
          },
          {
           "hovertemplate": "Város=%{y}<br>Év=2021<br>Bérleti díj (€/hó)=%{x}<extra></extra>",
           "legendgroup": "Bécs",
           "marker": {
            "color": "#7c8558",
            "pattern": {
             "shape": ""
            }
           },
           "name": "Bécs",
           "orientation": "h",
           "showlegend": true,
           "textposition": "auto",
           "type": "bar",
           "x": {
            "bdata": "AAAAAABYj0A=",
            "dtype": "f8"
           },
           "xaxis": "x",
           "y": [
            "Bécs"
           ],
           "yaxis": "y"
          },
          {
           "hovertemplate": "Város=%{y}<br>Év=2021<br>Bérleti díj (€/hó)=%{x}<extra></extra>",
           "legendgroup": "Helsinki",
           "marker": {
            "color": "#7c8558",
            "pattern": {
             "shape": ""
            }
           },
           "name": "Helsinki",
           "orientation": "h",
           "showlegend": true,
           "textposition": "auto",
           "type": "bar",
           "x": {
            "bdata": "MzMzMzNjhUA=",
            "dtype": "f8"
           },
           "xaxis": "x",
           "y": [
            "Helsinki"
           ],
           "yaxis": "y"
          },
          {
           "hovertemplate": "Város=%{y}<br>Év=2021<br>Bérleti díj (€/hó)=%{x}<extra></extra>",
           "legendgroup": "Koppenhága",
           "marker": {
            "color": "#7c8558",
            "pattern": {
             "shape": ""
            }
           },
           "name": "Koppenhága",
           "orientation": "h",
           "showlegend": true,
           "textposition": "auto",
           "type": "bar",
           "x": {
            "bdata": "0UUXXXQxjEA=",
            "dtype": "f8"
           },
           "xaxis": "x",
           "y": [
            "Koppenhága"
           ],
           "yaxis": "y"
          },
          {
           "hovertemplate": "Város=%{y}<br>Év=2021<br>Bérleti díj (€/hó)=%{x}<extra></extra>",
           "legendgroup": "Ljubljana",
           "marker": {
            "color": "#7c8558",
            "pattern": {
             "shape": ""
            }
           },
           "name": "Ljubljana",
           "orientation": "h",
           "showlegend": true,
           "textposition": "auto",
           "type": "bar",
           "x": {
            "bdata": "AAAAAAA6jUA=",
            "dtype": "f8"
           },
           "xaxis": "x",
           "y": [
            "Ljubljana"
           ],
           "yaxis": "y"
          },
          {
           "hovertemplate": "Város=%{y}<br>Év=2021<br>Bérleti díj (€/hó)=%{x}<extra></extra>",
           "legendgroup": "Madrid",
           "marker": {
            "color": "#7c8558",
            "pattern": {
             "shape": ""
            }
           },
           "name": "Madrid",
           "orientation": "h",
           "showlegend": true,
           "textposition": "auto",
           "type": "bar",
           "x": {
            "bdata": "MzMzMzOfjEA=",
            "dtype": "f8"
           },
           "xaxis": "x",
           "y": [
            "Madrid"
           ],
           "yaxis": "y"
          },
          {
           "hovertemplate": "Város=%{y}<br>Év=2021<br>Bérleti díj (€/hó)=%{x}<extra></extra>",
           "legendgroup": "Oslo",
           "marker": {
            "color": "#7c8558",
            "pattern": {
             "shape": ""
            }
           },
           "name": "Oslo",
           "orientation": "h",
           "showlegend": true,
           "textposition": "auto",
           "type": "bar",
           "x": {
            "bdata": "jC666KJjjEA=",
            "dtype": "f8"
           },
           "xaxis": "x",
           "y": [
            "Oslo"
           ],
           "yaxis": "y"
          },
          {
           "hovertemplate": "Város=%{y}<br>Év=2021<br>Bérleti díj (€/hó)=%{x}<extra></extra>",
           "legendgroup": "Prága",
           "marker": {
            "color": "#7c8558",
            "pattern": {
             "shape": ""
            }
           },
           "name": "Prága",
           "orientation": "h",
           "showlegend": true,
           "textposition": "auto",
           "type": "bar",
           "x": {
            "bdata": "q6qqqqrKiUA=",
            "dtype": "f8"
           },
           "xaxis": "x",
           "y": [
            "Prága"
           ],
           "yaxis": "y"
          },
          {
           "hovertemplate": "Város=%{y}<br>Év=2021<br>Bérleti díj (€/hó)=%{x}<extra></extra>",
           "legendgroup": "Párizs",
           "marker": {
            "color": "#7c8558",
            "pattern": {
             "shape": ""
            }
           },
           "name": "Párizs",
           "orientation": "h",
           "showlegend": true,
           "textposition": "auto",
           "type": "bar",
           "x": {
            "bdata": "q6qqqqqEjUA=",
            "dtype": "f8"
           },
           "xaxis": "x",
           "y": [
            "Párizs"
           ],
           "yaxis": "y"
          },
          {
           "hovertemplate": "Város=%{y}<br>Év=2021<br>Bérleti díj (€/hó)=%{x}<extra></extra>",
           "legendgroup": "Róma",
           "marker": {
            "color": "#7c8558",
            "pattern": {
             "shape": ""
            }
           },
           "name": "Róma",
           "orientation": "h",
           "showlegend": true,
           "textposition": "auto",
           "type": "bar",
           "x": {
            "bdata": "AAAAAADghkA=",
            "dtype": "f8"
           },
           "xaxis": "x",
           "y": [
            "Róma"
           ],
           "yaxis": "y"
          },
          {
           "hovertemplate": "Város=%{y}<br>Év=2021<br>Bérleti díj (€/hó)=%{x}<extra></extra>",
           "legendgroup": "Sofia",
           "marker": {
            "color": "#7c8558",
            "pattern": {
             "shape": ""
            }
           },
           "name": "Sofia",
           "orientation": "h",
           "showlegend": true,
           "textposition": "auto",
           "type": "bar",
           "x": {
            "bdata": "SZIkSZLIikA=",
            "dtype": "f8"
           },
           "xaxis": "x",
           "y": [
            "Sofia"
           ],
           "yaxis": "y"
          },
          {
           "hovertemplate": "Város=%{y}<br>Év=2021<br>Bérleti díj (€/hó)=%{x}<extra></extra>",
           "legendgroup": "Stockholm",
           "marker": {
            "color": "#7c8558",
            "pattern": {
             "shape": ""
            }
           },
           "name": "Stockholm",
           "orientation": "h",
           "showlegend": true,
           "textposition": "auto",
           "type": "bar",
           "x": {
            "bdata": "pqWlpaVtikA=",
            "dtype": "f8"
           },
           "xaxis": "x",
           "y": [
            "Stockholm"
           ],
           "yaxis": "y"
          },
          {
           "hovertemplate": "Város=%{y}<br>Év=2021<br>Bérleti díj (€/hó)=%{x}<extra></extra>",
           "legendgroup": "Tallinn",
           "marker": {
            "color": "#7c8558",
            "pattern": {
             "shape": ""
            }
           },
           "name": "Tallinn",
           "orientation": "h",
           "showlegend": true,
           "textposition": "auto",
           "type": "bar",
           "x": {
            "bdata": "AAAAAADqjEA=",
            "dtype": "f8"
           },
           "xaxis": "x",
           "y": [
            "Tallinn"
           ],
           "yaxis": "y"
          },
          {
           "hovertemplate": "Város=%{y}<br>Év=2021<br>Bérleti díj (€/hó)=%{x}<extra></extra>",
           "legendgroup": "Varsó",
           "marker": {
            "color": "#7c8558",
            "pattern": {
             "shape": ""
            }
           },
           "name": "Varsó",
           "orientation": "h",
           "showlegend": true,
           "textposition": "auto",
           "type": "bar",
           "x": {
            "bdata": "btu2bdsOjUA=",
            "dtype": "f8"
           },
           "xaxis": "x",
           "y": [
            "Varsó"
           ],
           "yaxis": "y"
          },
          {
           "hovertemplate": "Város=%{y}<br>Év=2021<br>Bérleti díj (€/hó)=%{x}<extra></extra>",
           "legendgroup": "Zágráb",
           "marker": {
            "color": "#7c8558",
            "pattern": {
             "shape": ""
            }
           },
           "name": "Zágráb",
           "orientation": "h",
           "showlegend": true,
           "textposition": "auto",
           "type": "bar",
           "x": {
            "bdata": "mpmZmZkpjUA=",
            "dtype": "f8"
           },
           "xaxis": "x",
           "y": [
            "Zágráb"
           ],
           "yaxis": "y"
          }
         ],
         "name": "2021"
        },
        {
         "data": [
          {
           "hovertemplate": "Város=%{y}<br>Év=2022<br>Bérleti díj (€/hó)=%{x}<extra></extra>",
           "legendgroup": "Amszterdam",
           "marker": {
            "color": "#7c8558",
            "pattern": {
             "shape": ""
            }
           },
           "name": "Amszterdam",
           "orientation": "h",
           "showlegend": true,
           "textposition": "auto",
           "type": "bar",
           "x": {
            "bdata": "VVVVVVURiUA=",
            "dtype": "f8"
           },
           "xaxis": "x",
           "y": [
            "Amszterdam"
           ],
           "yaxis": "y"
          },
          {
           "hovertemplate": "Város=%{y}<br>Év=2022<br>Bérleti díj (€/hó)=%{x}<extra></extra>",
           "legendgroup": "Athén",
           "marker": {
            "color": "#7c8558",
            "pattern": {
             "shape": ""
            }
           },
           "name": "Athén",
           "orientation": "h",
           "showlegend": true,
           "textposition": "auto",
           "type": "bar",
           "x": {
            "bdata": "O7ETO7Hbh0A=",
            "dtype": "f8"
           },
           "xaxis": "x",
           "y": [
            "Athén"
           ],
           "yaxis": "y"
          },
          {
           "hovertemplate": "Város=%{y}<br>Év=2022<br>Bérleti díj (€/hó)=%{x}<extra></extra>",
           "legendgroup": "Berlin",
           "marker": {
            "color": "#7c8558",
            "pattern": {
             "shape": ""
            }
           },
           "name": "Berlin",
           "orientation": "h",
           "showlegend": true,
           "textposition": "auto",
           "type": "bar",
           "x": {
            "bdata": "AAAAAAAEjEA=",
            "dtype": "f8"
           },
           "xaxis": "x",
           "y": [
            "Berlin"
           ],
           "yaxis": "y"
          },
          {
           "hovertemplate": "Város=%{y}<br>Év=2022<br>Bérleti díj (€/hó)=%{x}<extra></extra>",
           "legendgroup": "Brüsszel",
           "marker": {
            "color": "#7c8558",
            "pattern": {
             "shape": ""
            }
           },
           "name": "Brüsszel",
           "orientation": "h",
           "showlegend": true,
           "textposition": "auto",
           "type": "bar",
           "x": {
            "bdata": "JUmSJElGi0A=",
            "dtype": "f8"
           },
           "xaxis": "x",
           "y": [
            "Brüsszel"
           ],
           "yaxis": "y"
          },
          {
           "hovertemplate": "Város=%{y}<br>Év=2022<br>Bérleti díj (€/hó)=%{x}<extra></extra>",
           "legendgroup": "Budapest",
           "marker": {
            "color": "#7c8558",
            "pattern": {
             "shape": ""
            }
           },
           "name": "Budapest",
           "orientation": "h",
           "showlegend": true,
           "textposition": "auto",
           "type": "bar",
           "x": {
            "bdata": "AAAAAADajkA=",
            "dtype": "f8"
           },
           "xaxis": "x",
           "y": [
            "Budapest"
           ],
           "yaxis": "y"
          },
          {
           "hovertemplate": "Város=%{y}<br>Év=2022<br>Bérleti díj (€/hó)=%{x}<extra></extra>",
           "legendgroup": "Bukarest",
           "marker": {
            "color": "#7c8558",
            "pattern": {
             "shape": ""
            }
           },
           "name": "Bukarest",
           "orientation": "h",
           "showlegend": true,
           "textposition": "auto",
           "type": "bar",
           "x": {
            "bdata": "L7rooot+i0A=",
            "dtype": "f8"
           },
           "xaxis": "x",
           "y": [
            "Bukarest"
           ],
           "yaxis": "y"
          },
          {
           "hovertemplate": "Város=%{y}<br>Év=2022<br>Bérleti díj (€/hó)=%{x}<extra></extra>",
           "legendgroup": "Bécs",
           "marker": {
            "color": "#7c8558",
            "pattern": {
             "shape": ""
            }
           },
           "name": "Bécs",
           "orientation": "h",
           "showlegend": true,
           "textposition": "auto",
           "type": "bar",
           "x": {
            "bdata": "VVVVVVVXjEA=",
            "dtype": "f8"
           },
           "xaxis": "x",
           "y": [
            "Bécs"
           ],
           "yaxis": "y"
          },
          {
           "hovertemplate": "Város=%{y}<br>Év=2022<br>Bérleti díj (€/hó)=%{x}<extra></extra>",
           "legendgroup": "Helsinki",
           "marker": {
            "color": "#7c8558",
            "pattern": {
             "shape": ""
            }
           },
           "name": "Helsinki",
           "orientation": "h",
           "showlegend": true,
           "textposition": "auto",
           "type": "bar",
           "x": {
            "bdata": "q6qqqqqui0A=",
            "dtype": "f8"
           },
           "xaxis": "x",
           "y": [
            "Helsinki"
           ],
           "yaxis": "y"
          },
          {
           "hovertemplate": "Város=%{y}<br>Év=2022<br>Bérleti díj (€/hó)=%{x}<extra></extra>",
           "legendgroup": "Koppenhága",
           "marker": {
            "color": "#7c8558",
            "pattern": {
             "shape": ""
            }
           },
           "name": "Koppenhága",
           "orientation": "h",
           "showlegend": true,
           "textposition": "auto",
           "type": "bar",
           "x": {
            "bdata": "x3Ecx3EciEA=",
            "dtype": "f8"
           },
           "xaxis": "x",
           "y": [
            "Koppenhága"
           ],
           "yaxis": "y"
          },
          {
           "hovertemplate": "Város=%{y}<br>Év=2022<br>Bérleti díj (€/hó)=%{x}<extra></extra>",
           "legendgroup": "Ljubljana",
           "marker": {
            "color": "#7c8558",
            "pattern": {
             "shape": ""
            }
           },
           "name": "Ljubljana",
           "orientation": "h",
           "showlegend": true,
           "textposition": "auto",
           "type": "bar",
           "x": {
            "bdata": "xU7sxE4EjUA=",
            "dtype": "f8"
           },
           "xaxis": "x",
           "y": [
            "Ljubljana"
           ],
           "yaxis": "y"
          },
          {
           "hovertemplate": "Város=%{y}<br>Év=2022<br>Bérleti díj (€/hó)=%{x}<extra></extra>",
           "legendgroup": "Madrid",
           "marker": {
            "color": "#7c8558",
            "pattern": {
             "shape": ""
            }
           },
           "name": "Madrid",
           "orientation": "h",
           "showlegend": true,
           "textposition": "auto",
           "type": "bar",
           "x": {
            "bdata": "q6qqqqoihUA=",
            "dtype": "f8"
           },
           "xaxis": "x",
           "y": [
            "Madrid"
           ],
           "yaxis": "y"
          },
          {
           "hovertemplate": "Város=%{y}<br>Év=2022<br>Bérleti díj (€/hó)=%{x}<extra></extra>",
           "legendgroup": "Oslo",
           "marker": {
            "color": "#7c8558",
            "pattern": {
             "shape": ""
            }
           },
           "name": "Oslo",
           "orientation": "h",
           "showlegend": true,
           "textposition": "auto",
           "type": "bar",
           "x": {
            "bdata": "AAAAAACwjkA=",
            "dtype": "f8"
           },
           "xaxis": "x",
           "y": [
            "Oslo"
           ],
           "yaxis": "y"
          },
          {
           "hovertemplate": "Város=%{y}<br>Év=2022<br>Bérleti díj (€/hó)=%{x}<extra></extra>",
           "legendgroup": "Prága",
           "marker": {
            "color": "#7c8558",
            "pattern": {
             "shape": ""
            }
           },
           "name": "Prága",
           "orientation": "h",
           "showlegend": true,
           "textposition": "auto",
           "type": "bar",
           "x": {
            "bdata": "VVVVVVXNikA=",
            "dtype": "f8"
           },
           "xaxis": "x",
           "y": [
            "Prága"
           ],
           "yaxis": "y"
          },
          {
           "hovertemplate": "Város=%{y}<br>Év=2022<br>Bérleti díj (€/hó)=%{x}<extra></extra>",
           "legendgroup": "Párizs",
           "marker": {
            "color": "#7c8558",
            "pattern": {
             "shape": ""
            }
           },
           "name": "Párizs",
           "orientation": "h",
           "showlegend": true,
           "textposition": "auto",
           "type": "bar",
           "x": {
            "bdata": "AAAAAACojUA=",
            "dtype": "f8"
           },
           "xaxis": "x",
           "y": [
            "Párizs"
           ],
           "yaxis": "y"
          },
          {
           "hovertemplate": "Város=%{y}<br>Év=2022<br>Bérleti díj (€/hó)=%{x}<extra></extra>",
           "legendgroup": "Róma",
           "marker": {
            "color": "#7c8558",
            "pattern": {
             "shape": ""
            }
           },
           "name": "Róma",
           "orientation": "h",
           "showlegend": true,
           "textposition": "auto",
           "type": "bar",
           "x": {
            "bdata": "q6qqqqoih0A=",
            "dtype": "f8"
           },
           "xaxis": "x",
           "y": [
            "Róma"
           ],
           "yaxis": "y"
          },
          {
           "hovertemplate": "Város=%{y}<br>Év=2022<br>Bérleti díj (€/hó)=%{x}<extra></extra>",
           "legendgroup": "Sofia",
           "marker": {
            "color": "#7c8558",
            "pattern": {
             "shape": ""
            }
           },
           "name": "Sofia",
           "orientation": "h",
           "showlegend": true,
           "textposition": "auto",
           "type": "bar",
           "x": {
            "bdata": "27Zt27ZljEA=",
            "dtype": "f8"
           },
           "xaxis": "x",
           "y": [
            "Sofia"
           ],
           "yaxis": "y"
          },
          {
           "hovertemplate": "Város=%{y}<br>Év=2022<br>Bérleti díj (€/hó)=%{x}<extra></extra>",
           "legendgroup": "Stockholm",
           "marker": {
            "color": "#7c8558",
            "pattern": {
             "shape": ""
            }
           },
           "name": "Stockholm",
           "orientation": "h",
           "showlegend": true,
           "textposition": "auto",
           "type": "bar",
           "x": {
            "bdata": "q6qqqqpSiUA=",
            "dtype": "f8"
           },
           "xaxis": "x",
           "y": [
            "Stockholm"
           ],
           "yaxis": "y"
          },
          {
           "hovertemplate": "Város=%{y}<br>Év=2022<br>Bérleti díj (€/hó)=%{x}<extra></extra>",
           "legendgroup": "Tallinn",
           "marker": {
            "color": "#7c8558",
            "pattern": {
             "shape": ""
            }
           },
           "name": "Tallinn",
           "orientation": "h",
           "showlegend": true,
           "textposition": "auto",
           "type": "bar",
           "x": {
            "bdata": "F1100UXnjkA=",
            "dtype": "f8"
           },
           "xaxis": "x",
           "y": [
            "Tallinn"
           ],
           "yaxis": "y"
          },
          {
           "hovertemplate": "Város=%{y}<br>Év=2022<br>Bérleti díj (€/hó)=%{x}<extra></extra>",
           "legendgroup": "Varsó",
           "marker": {
            "color": "#7c8558",
            "pattern": {
             "shape": ""
            }
           },
           "name": "Varsó",
           "orientation": "h",
           "showlegend": true,
           "textposition": "auto",
           "type": "bar",
           "x": {
            "bdata": "AAAAAICmiEA=",
            "dtype": "f8"
           },
           "xaxis": "x",
           "y": [
            "Varsó"
           ],
           "yaxis": "y"
          },
          {
           "hovertemplate": "Város=%{y}<br>Év=2022<br>Bérleti díj (€/hó)=%{x}<extra></extra>",
           "legendgroup": "Zágráb",
           "marker": {
            "color": "#7c8558",
            "pattern": {
             "shape": ""
            }
           },
           "name": "Zágráb",
           "orientation": "h",
           "showlegend": true,
           "textposition": "auto",
           "type": "bar",
           "x": {
            "bdata": "7MRO7MSWikA=",
            "dtype": "f8"
           },
           "xaxis": "x",
           "y": [
            "Zágráb"
           ],
           "yaxis": "y"
          }
         ],
         "name": "2022"
        },
        {
         "data": [
          {
           "hovertemplate": "Város=%{y}<br>Év=2023<br>Bérleti díj (€/hó)=%{x}<extra></extra>",
           "legendgroup": "Amszterdam",
           "marker": {
            "color": "#7c8558",
            "pattern": {
             "shape": ""
            }
           },
           "name": "Amszterdam",
           "orientation": "h",
           "showlegend": true,
           "textposition": "auto",
           "type": "bar",
           "x": {
            "bdata": "AAAAAAAAh0A=",
            "dtype": "f8"
           },
           "xaxis": "x",
           "y": [
            "Amszterdam"
           ],
           "yaxis": "y"
          },
          {
           "hovertemplate": "Város=%{y}<br>Év=2023<br>Bérleti díj (€/hó)=%{x}<extra></extra>",
           "legendgroup": "Athén",
           "marker": {
            "color": "#7c8558",
            "pattern": {
             "shape": ""
            }
           },
           "name": "Athén",
           "orientation": "h",
           "showlegend": true,
           "textposition": "auto",
           "type": "bar",
           "x": {
            "bdata": "q6qqqqpKjUA=",
            "dtype": "f8"
           },
           "xaxis": "x",
           "y": [
            "Athén"
           ],
           "yaxis": "y"
          },
          {
           "hovertemplate": "Város=%{y}<br>Év=2023<br>Bérleti díj (€/hó)=%{x}<extra></extra>",
           "legendgroup": "Berlin",
           "marker": {
            "color": "#7c8558",
            "pattern": {
             "shape": ""
            }
           },
           "name": "Berlin",
           "orientation": "h",
           "showlegend": true,
           "textposition": "auto",
           "type": "bar",
           "x": {
            "bdata": "AAAAAIAUjEA=",
            "dtype": "f8"
           },
           "xaxis": "x",
           "y": [
            "Berlin"
           ],
           "yaxis": "y"
          },
          {
           "hovertemplate": "Város=%{y}<br>Év=2023<br>Bérleti díj (€/hó)=%{x}<extra></extra>",
           "legendgroup": "Brüsszel",
           "marker": {
            "color": "#7c8558",
            "pattern": {
             "shape": ""
            }
           },
           "name": "Brüsszel",
           "orientation": "h",
           "showlegend": true,
           "textposition": "auto",
           "type": "bar",
           "x": {
            "bdata": "jC666KIXkEA=",
            "dtype": "f8"
           },
           "xaxis": "x",
           "y": [
            "Brüsszel"
           ],
           "yaxis": "y"
          },
          {
           "hovertemplate": "Város=%{y}<br>Év=2023<br>Bérleti díj (€/hó)=%{x}<extra></extra>",
           "legendgroup": "Budapest",
           "marker": {
            "color": "#7c8558",
            "pattern": {
             "shape": ""
            }
           },
           "name": "Budapest",
           "orientation": "h",
           "showlegend": true,
           "textposition": "auto",
           "type": "bar",
           "x": {
            "bdata": "5DiO4zimjUA=",
            "dtype": "f8"
           },
           "xaxis": "x",
           "y": [
            "Budapest"
           ],
           "yaxis": "y"
          },
          {
           "hovertemplate": "Város=%{y}<br>Év=2023<br>Bérleti díj (€/hó)=%{x}<extra></extra>",
           "legendgroup": "Bukarest",
           "marker": {
            "color": "#7c8558",
            "pattern": {
             "shape": ""
            }
           },
           "name": "Bukarest",
           "orientation": "h",
           "showlegend": true,
           "textposition": "auto",
           "type": "bar",
           "x": {
            "bdata": "sRM7sROjjUA=",
            "dtype": "f8"
           },
           "xaxis": "x",
           "y": [
            "Bukarest"
           ],
           "yaxis": "y"
          },
          {
           "hovertemplate": "Város=%{y}<br>Év=2023<br>Bérleti díj (€/hó)=%{x}<extra></extra>",
           "legendgroup": "Bécs",
           "marker": {
            "color": "#7c8558",
            "pattern": {
             "shape": ""
            }
           },
           "name": "Bécs",
           "orientation": "h",
           "showlegend": true,
           "textposition": "auto",
           "type": "bar",
           "x": {
            "bdata": "chzHcRx/jUA=",
            "dtype": "f8"
           },
           "xaxis": "x",
           "y": [
            "Bécs"
           ],
           "yaxis": "y"
          },
          {
           "hovertemplate": "Város=%{y}<br>Év=2023<br>Bérleti díj (€/hó)=%{x}<extra></extra>",
           "legendgroup": "Helsinki",
           "marker": {
            "color": "#7c8558",
            "pattern": {
             "shape": ""
            }
           },
           "name": "Helsinki",
           "orientation": "h",
           "showlegend": true,
           "textposition": "auto",
           "type": "bar",
           "x": {
            "bdata": "REREREQ8i0A=",
            "dtype": "f8"
           },
           "xaxis": "x",
           "y": [
            "Helsinki"
           ],
           "yaxis": "y"
          },
          {
           "hovertemplate": "Város=%{y}<br>Év=2023<br>Bérleti díj (€/hó)=%{x}<extra></extra>",
           "legendgroup": "Koppenhága",
           "marker": {
            "color": "#7c8558",
            "pattern": {
             "shape": ""
            }
           },
           "name": "Koppenhága",
           "orientation": "h",
           "showlegend": true,
           "textposition": "auto",
           "type": "bar",
           "x": {
            "bdata": "q6qqqqoejkA=",
            "dtype": "f8"
           },
           "xaxis": "x",
           "y": [
            "Koppenhága"
           ],
           "yaxis": "y"
          },
          {
           "hovertemplate": "Város=%{y}<br>Év=2023<br>Bérleti díj (€/hó)=%{x}<extra></extra>",
           "legendgroup": "Ljubljana",
           "marker": {
            "color": "#7c8558",
            "pattern": {
             "shape": ""
            }
           },
           "name": "Ljubljana",
           "orientation": "h",
           "showlegend": true,
           "textposition": "auto",
           "type": "bar",
           "x": {
            "bdata": "zczMzMwUjkA=",
            "dtype": "f8"
           },
           "xaxis": "x",
           "y": [
            "Ljubljana"
           ],
           "yaxis": "y"
          },
          {
           "hovertemplate": "Város=%{y}<br>Év=2023<br>Bérleti díj (€/hó)=%{x}<extra></extra>",
           "legendgroup": "Madrid",
           "marker": {
            "color": "#7c8558",
            "pattern": {
             "shape": ""
            }
           },
           "name": "Madrid",
           "orientation": "h",
           "showlegend": true,
           "textposition": "auto",
           "type": "bar",
           "x": {
            "bdata": "AAAAAAAUjkA=",
            "dtype": "f8"
           },
           "xaxis": "x",
           "y": [
            "Madrid"
           ],
           "yaxis": "y"
          },
          {
           "hovertemplate": "Város=%{y}<br>Év=2023<br>Bérleti díj (€/hó)=%{x}<extra></extra>",
           "legendgroup": "Oslo",
           "marker": {
            "color": "#7c8558",
            "pattern": {
             "shape": ""
            }
           },
           "name": "Oslo",
           "orientation": "h",
           "showlegend": true,
           "textposition": "auto",
           "type": "bar",
           "x": {
            "bdata": "SZIkSZJMi0A=",
            "dtype": "f8"
           },
           "xaxis": "x",
           "y": [
            "Oslo"
           ],
           "yaxis": "y"
          },
          {
           "hovertemplate": "Város=%{y}<br>Év=2023<br>Bérleti díj (€/hó)=%{x}<extra></extra>",
           "legendgroup": "Prága",
           "marker": {
            "color": "#7c8558",
            "pattern": {
             "shape": ""
            }
           },
           "name": "Prága",
           "orientation": "h",
           "showlegend": true,
           "textposition": "auto",
           "type": "bar",
           "x": {
            "bdata": "0UUXXXSpjUA=",
            "dtype": "f8"
           },
           "xaxis": "x",
           "y": [
            "Prága"
           ],
           "yaxis": "y"
          },
          {
           "hovertemplate": "Város=%{y}<br>Év=2023<br>Bérleti díj (€/hó)=%{x}<extra></extra>",
           "legendgroup": "Párizs",
           "marker": {
            "color": "#7c8558",
            "pattern": {
             "shape": ""
            }
           },
           "name": "Párizs",
           "orientation": "h",
           "showlegend": true,
           "textposition": "auto",
           "type": "bar",
           "x": {
            "bdata": "VVVVVVV3jEA=",
            "dtype": "f8"
           },
           "xaxis": "x",
           "y": [
            "Párizs"
           ],
           "yaxis": "y"
          },
          {
           "hovertemplate": "Város=%{y}<br>Év=2023<br>Bérleti díj (€/hó)=%{x}<extra></extra>",
           "legendgroup": "Róma",
           "marker": {
            "color": "#7c8558",
            "pattern": {
             "shape": ""
            }
           },
           "name": "Róma",
           "orientation": "h",
           "showlegend": true,
           "textposition": "auto",
           "type": "bar",
           "x": {
            "bdata": "jC666KIjjkA=",
            "dtype": "f8"
           },
           "xaxis": "x",
           "y": [
            "Róma"
           ],
           "yaxis": "y"
          },
          {
           "hovertemplate": "Város=%{y}<br>Év=2023<br>Bérleti díj (€/hó)=%{x}<extra></extra>",
           "legendgroup": "Sofia",
           "marker": {
            "color": "#7c8558",
            "pattern": {
             "shape": ""
            }
           },
           "name": "Sofia",
           "orientation": "h",
           "showlegend": true,
           "textposition": "auto",
           "type": "bar",
           "x": {
            "bdata": "juM4juOIi0A=",
            "dtype": "f8"
           },
           "xaxis": "x",
           "y": [
            "Sofia"
           ],
           "yaxis": "y"
          },
          {
           "hovertemplate": "Város=%{y}<br>Év=2023<br>Bérleti díj (€/hó)=%{x}<extra></extra>",
           "legendgroup": "Stockholm",
           "marker": {
            "color": "#7c8558",
            "pattern": {
             "shape": ""
            }
           },
           "name": "Stockholm",
           "orientation": "h",
           "showlegend": true,
           "textposition": "auto",
           "type": "bar",
           "x": {
            "bdata": "HMdxHMeZikA=",
            "dtype": "f8"
           },
           "xaxis": "x",
           "y": [
            "Stockholm"
           ],
           "yaxis": "y"
          },
          {
           "hovertemplate": "Város=%{y}<br>Év=2023<br>Bérleti díj (€/hó)=%{x}<extra></extra>",
           "legendgroup": "Tallinn",
           "marker": {
            "color": "#7c8558",
            "pattern": {
             "shape": ""
            }
           },
           "name": "Tallinn",
           "orientation": "h",
           "showlegend": true,
           "textposition": "auto",
           "type": "bar",
           "x": {
            "bdata": "27Zt27b9jEA=",
            "dtype": "f8"
           },
           "xaxis": "x",
           "y": [
            "Tallinn"
           ],
           "yaxis": "y"
          },
          {
           "hovertemplate": "Város=%{y}<br>Év=2023<br>Bérleti díj (€/hó)=%{x}<extra></extra>",
           "legendgroup": "Varsó",
           "marker": {
            "color": "#7c8558",
            "pattern": {
             "shape": ""
            }
           },
           "name": "Varsó",
           "orientation": "h",
           "showlegend": true,
           "textposition": "auto",
           "type": "bar",
           "x": {
            "bdata": "0UUXXXSBjEA=",
            "dtype": "f8"
           },
           "xaxis": "x",
           "y": [
            "Varsó"
           ],
           "yaxis": "y"
          },
          {
           "hovertemplate": "Város=%{y}<br>Év=2023<br>Bérleti díj (€/hó)=%{x}<extra></extra>",
           "legendgroup": "Zágráb",
           "marker": {
            "color": "#7c8558",
            "pattern": {
             "shape": ""
            }
           },
           "name": "Zágráb",
           "orientation": "h",
           "showlegend": true,
           "textposition": "auto",
           "type": "bar",
           "x": {
            "bdata": "O7ETO7HTjUA=",
            "dtype": "f8"
           },
           "xaxis": "x",
           "y": [
            "Zágráb"
           ],
           "yaxis": "y"
          }
         ],
         "name": "2023"
        },
        {
         "data": [
          {
           "hovertemplate": "Város=%{y}<br>Év=2024<br>Bérleti díj (€/hó)=%{x}<extra></extra>",
           "legendgroup": "Amszterdam",
           "marker": {
            "color": "#7c8558",
            "pattern": {
             "shape": ""
            }
           },
           "name": "Amszterdam",
           "orientation": "h",
           "showlegend": true,
           "textposition": "auto",
           "type": "bar",
           "x": {
            "bdata": "q6qqqqp8ikA=",
            "dtype": "f8"
           },
           "xaxis": "x",
           "y": [
            "Amszterdam"
           ],
           "yaxis": "y"
          },
          {
           "hovertemplate": "Város=%{y}<br>Év=2024<br>Bérleti díj (€/hó)=%{x}<extra></extra>",
           "legendgroup": "Athén",
           "marker": {
            "color": "#7c8558",
            "pattern": {
             "shape": ""
            }
           },
           "name": "Athén",
           "orientation": "h",
           "showlegend": true,
           "textposition": "auto",
           "type": "bar",
           "x": {
            "bdata": "zczMzMw0jEA=",
            "dtype": "f8"
           },
           "xaxis": "x",
           "y": [
            "Athén"
           ],
           "yaxis": "y"
          },
          {
           "hovertemplate": "Város=%{y}<br>Év=2024<br>Bérleti díj (€/hó)=%{x}<extra></extra>",
           "legendgroup": "Berlin",
           "marker": {
            "color": "#7c8558",
            "pattern": {
             "shape": ""
            }
           },
           "name": "Berlin",
           "orientation": "h",
           "showlegend": true,
           "textposition": "auto",
           "type": "bar",
           "x": {
            "bdata": "FDuxEzuJi0A=",
            "dtype": "f8"
           },
           "xaxis": "x",
           "y": [
            "Berlin"
           ],
           "yaxis": "y"
          },
          {
           "hovertemplate": "Város=%{y}<br>Év=2024<br>Bérleti díj (€/hó)=%{x}<extra></extra>",
           "legendgroup": "Brüsszel",
           "marker": {
            "color": "#7c8558",
            "pattern": {
             "shape": ""
            }
           },
           "name": "Brüsszel",
           "orientation": "h",
           "showlegend": true,
           "textposition": "auto",
           "type": "bar",
           "x": {
            "bdata": "mpmZmZlxjEA=",
            "dtype": "f8"
           },
           "xaxis": "x",
           "y": [
            "Brüsszel"
           ],
           "yaxis": "y"
          },
          {
           "hovertemplate": "Város=%{y}<br>Év=2024<br>Bérleti díj (€/hó)=%{x}<extra></extra>",
           "legendgroup": "Budapest",
           "marker": {
            "color": "#7c8558",
            "pattern": {
             "shape": ""
            }
           },
           "name": "Budapest",
           "orientation": "h",
           "showlegend": true,
           "textposition": "auto",
           "type": "bar",
           "x": {
            "bdata": "AAAAAABUiUA=",
            "dtype": "f8"
           },
           "xaxis": "x",
           "y": [
            "Budapest"
           ],
           "yaxis": "y"
          },
          {
           "hovertemplate": "Város=%{y}<br>Év=2024<br>Bérleti díj (€/hó)=%{x}<extra></extra>",
           "legendgroup": "Bukarest",
           "marker": {
            "color": "#7c8558",
            "pattern": {
             "shape": ""
            }
           },
           "name": "Bukarest",
           "orientation": "h",
           "showlegend": true,
           "textposition": "auto",
           "type": "bar",
           "x": {
            "bdata": "q6qqqqpIkEA=",
            "dtype": "f8"
           },
           "xaxis": "x",
           "y": [
            "Bukarest"
           ],
           "yaxis": "y"
          },
          {
           "hovertemplate": "Város=%{y}<br>Év=2024<br>Bérleti díj (€/hó)=%{x}<extra></extra>",
           "legendgroup": "Bécs",
           "marker": {
            "color": "#7c8558",
            "pattern": {
             "shape": ""
            }
           },
           "name": "Bécs",
           "orientation": "h",
           "showlegend": true,
           "textposition": "auto",
           "type": "bar",
           "x": {
            "bdata": "VVVVVVU5hEA=",
            "dtype": "f8"
           },
           "xaxis": "x",
           "y": [
            "Bécs"
           ],
           "yaxis": "y"
          },
          {
           "hovertemplate": "Város=%{y}<br>Év=2024<br>Bérleti díj (€/hó)=%{x}<extra></extra>",
           "legendgroup": "Helsinki",
           "marker": {
            "color": "#7c8558",
            "pattern": {
             "shape": ""
            }
           },
           "name": "Helsinki",
           "orientation": "h",
           "showlegend": true,
           "textposition": "auto",
           "type": "bar",
           "x": {
            "bdata": "o4suuujyjEA=",
            "dtype": "f8"
           },
           "xaxis": "x",
           "y": [
            "Helsinki"
           ],
           "yaxis": "y"
          },
          {
           "hovertemplate": "Város=%{y}<br>Év=2024<br>Bérleti díj (€/hó)=%{x}<extra></extra>",
           "legendgroup": "Koppenhága",
           "marker": {
            "color": "#7c8558",
            "pattern": {
             "shape": ""
            }
           },
           "name": "Koppenhága",
           "orientation": "h",
           "showlegend": true,
           "textposition": "auto",
           "type": "bar",
           "x": {
            "bdata": "AAAAAACKiUA=",
            "dtype": "f8"
           },
           "xaxis": "x",
           "y": [
            "Koppenhága"
           ],
           "yaxis": "y"
          },
          {
           "hovertemplate": "Város=%{y}<br>Év=2024<br>Bérleti díj (€/hó)=%{x}<extra></extra>",
           "legendgroup": "Ljubljana",
           "marker": {
            "color": "#7c8558",
            "pattern": {
             "shape": ""
            }
           },
           "name": "Ljubljana",
           "orientation": "h",
           "showlegend": true,
           "textposition": "auto",
           "type": "bar",
           "x": {
            "bdata": "ZmZmZmbKiEA=",
            "dtype": "f8"
           },
           "xaxis": "x",
           "y": [
            "Ljubljana"
           ],
           "yaxis": "y"
          },
          {
           "hovertemplate": "Város=%{y}<br>Év=2024<br>Bérleti díj (€/hó)=%{x}<extra></extra>",
           "legendgroup": "Madrid",
           "marker": {
            "color": "#7c8558",
            "pattern": {
             "shape": ""
            }
           },
           "name": "Madrid",
           "orientation": "h",
           "showlegend": true,
           "textposition": "auto",
           "type": "bar",
           "x": {
            "bdata": "5DiO4zj+i0A=",
            "dtype": "f8"
           },
           "xaxis": "x",
           "y": [
            "Madrid"
           ],
           "yaxis": "y"
          },
          {
           "hovertemplate": "Város=%{y}<br>Év=2024<br>Bérleti díj (€/hó)=%{x}<extra></extra>",
           "legendgroup": "Oslo",
           "marker": {
            "color": "#7c8558",
            "pattern": {
             "shape": ""
            }
           },
           "name": "Oslo",
           "orientation": "h",
           "showlegend": true,
           "textposition": "auto",
           "type": "bar",
           "x": {
            "bdata": "AAAAAACKjUA=",
            "dtype": "f8"
           },
           "xaxis": "x",
           "y": [
            "Oslo"
           ],
           "yaxis": "y"
          },
          {
           "hovertemplate": "Város=%{y}<br>Év=2024<br>Bérleti díj (€/hó)=%{x}<extra></extra>",
           "legendgroup": "Prága",
           "marker": {
            "color": "#7c8558",
            "pattern": {
             "shape": ""
            }
           },
           "name": "Prága",
           "orientation": "h",
           "showlegend": true,
           "textposition": "auto",
           "type": "bar",
           "x": {
            "bdata": "q6qqqqrMjkA=",
            "dtype": "f8"
           },
           "xaxis": "x",
           "y": [
            "Prága"
           ],
           "yaxis": "y"
          },
          {
           "hovertemplate": "Város=%{y}<br>Év=2024<br>Bérleti díj (€/hó)=%{x}<extra></extra>",
           "legendgroup": "Párizs",
           "marker": {
            "color": "#7c8558",
            "pattern": {
             "shape": ""
            }
           },
           "name": "Párizs",
           "orientation": "h",
           "showlegend": true,
           "textposition": "auto",
           "type": "bar",
           "x": {
            "bdata": "27Zt27aVhUA=",
            "dtype": "f8"
           },
           "xaxis": "x",
           "y": [
            "Párizs"
           ],
           "yaxis": "y"
          },
          {
           "hovertemplate": "Város=%{y}<br>Év=2024<br>Bérleti díj (€/hó)=%{x}<extra></extra>",
           "legendgroup": "Róma",
           "marker": {
            "color": "#7c8558",
            "pattern": {
             "shape": ""
            }
           },
           "name": "Róma",
           "orientation": "h",
           "showlegend": true,
           "textposition": "auto",
           "type": "bar",
           "x": {
            "bdata": "AAAAAABYj0A=",
            "dtype": "f8"
           },
           "xaxis": "x",
           "y": [
            "Róma"
           ],
           "yaxis": "y"
          },
          {
           "hovertemplate": "Város=%{y}<br>Év=2024<br>Bérleti díj (€/hó)=%{x}<extra></extra>",
           "legendgroup": "Sofia",
           "marker": {
            "color": "#7c8558",
            "pattern": {
             "shape": ""
            }
           },
           "name": "Sofia",
           "orientation": "h",
           "showlegend": true,
           "textposition": "auto",
           "type": "bar",
           "x": {
            "bdata": "L7rooovuikA=",
            "dtype": "f8"
           },
           "xaxis": "x",
           "y": [
            "Sofia"
           ],
           "yaxis": "y"
          },
          {
           "hovertemplate": "Város=%{y}<br>Év=2024<br>Bérleti díj (€/hó)=%{x}<extra></extra>",
           "legendgroup": "Stockholm",
           "marker": {
            "color": "#7c8558",
            "pattern": {
             "shape": ""
            }
           },
           "name": "Stockholm",
           "orientation": "h",
           "showlegend": true,
           "textposition": "auto",
           "type": "bar",
           "x": {
            "bdata": "AAAAAABskEA=",
            "dtype": "f8"
           },
           "xaxis": "x",
           "y": [
            "Stockholm"
           ],
           "yaxis": "y"
          },
          {
           "hovertemplate": "Város=%{y}<br>Év=2024<br>Bérleti díj (€/hó)=%{x}<extra></extra>",
           "legendgroup": "Tallinn",
           "marker": {
            "color": "#7c8558",
            "pattern": {
             "shape": ""
            }
           },
           "name": "Tallinn",
           "orientation": "h",
           "showlegend": true,
           "textposition": "auto",
           "type": "bar",
           "x": {
            "bdata": "t23btm1nkEA=",
            "dtype": "f8"
           },
           "xaxis": "x",
           "y": [
            "Tallinn"
           ],
           "yaxis": "y"
          },
          {
           "hovertemplate": "Város=%{y}<br>Év=2024<br>Bérleti díj (€/hó)=%{x}<extra></extra>",
           "legendgroup": "Varsó",
           "marker": {
            "color": "#7c8558",
            "pattern": {
             "shape": ""
            }
           },
           "name": "Varsó",
           "orientation": "h",
           "showlegend": true,
           "textposition": "auto",
           "type": "bar",
           "x": {
            "bdata": "AAAAAAB0kEA=",
            "dtype": "f8"
           },
           "xaxis": "x",
           "y": [
            "Varsó"
           ],
           "yaxis": "y"
          },
          {
           "hovertemplate": "Város=%{y}<br>Év=2024<br>Bérleti díj (€/hó)=%{x}<extra></extra>",
           "legendgroup": "Zágráb",
           "marker": {
            "color": "#7c8558",
            "pattern": {
             "shape": ""
            }
           },
           "name": "Zágráb",
           "orientation": "h",
           "showlegend": true,
           "textposition": "auto",
           "type": "bar",
           "x": {
            "bdata": "AAAAAADTjUA=",
            "dtype": "f8"
           },
           "xaxis": "x",
           "y": [
            "Zágráb"
           ],
           "yaxis": "y"
          }
         ],
         "name": "2024"
        }
       ],
       "layout": {
        "barmode": "relative",
        "height": 700,
        "hoverlabel": {
         "bgcolor": "#ffffff",
         "font": {
          "family": "Arial",
          "size": 14
         }
        },
        "legend": {
         "title": {
          "text": "Város"
         },
         "tracegroupgap": 0
        },
        "margin": {
         "b": 60,
         "l": 80,
         "r": 40,
         "t": 20
        },
        "showlegend": false,
        "sliders": [
         {
          "active": 0,
          "currentvalue": {
           "prefix": "Év="
          },
          "len": 0.9,
          "pad": {
           "b": 10,
           "t": 60
          },
          "steps": [
           {
            "args": [
             [
              "2020"
             ],
             {
              "frame": {
               "duration": 0,
               "redraw": true
              },
              "fromcurrent": true,
              "mode": "immediate",
              "transition": {
               "duration": 0,
               "easing": "linear"
              }
             }
            ],
            "label": "2020",
            "method": "animate"
           },
           {
            "args": [
             [
              "2021"
             ],
             {
              "frame": {
               "duration": 0,
               "redraw": true
              },
              "fromcurrent": true,
              "mode": "immediate",
              "transition": {
               "duration": 0,
               "easing": "linear"
              }
             }
            ],
            "label": "2021",
            "method": "animate"
           },
           {
            "args": [
             [
              "2022"
             ],
             {
              "frame": {
               "duration": 0,
               "redraw": true
              },
              "fromcurrent": true,
              "mode": "immediate",
              "transition": {
               "duration": 0,
               "easing": "linear"
              }
             }
            ],
            "label": "2022",
            "method": "animate"
           },
           {
            "args": [
             [
              "2023"
             ],
             {
              "frame": {
               "duration": 0,
               "redraw": true
              },
              "fromcurrent": true,
              "mode": "immediate",
              "transition": {
               "duration": 0,
               "easing": "linear"
              }
             }
            ],
            "label": "2023",
            "method": "animate"
           },
           {
            "args": [
             [
              "2024"
             ],
             {
              "frame": {
               "duration": 0,
               "redraw": true
              },
              "fromcurrent": true,
              "mode": "immediate",
              "transition": {
               "duration": 0,
               "easing": "linear"
              }
             }
            ],
            "label": "2024",
            "method": "animate"
           }
          ],
          "x": 0.1,
          "xanchor": "left",
          "y": 0,
          "yanchor": "top"
         }
        ],
        "template": {
         "data": {
          "bar": [
           {
            "error_x": {
             "color": "#2a3f5f"
            },
            "error_y": {
             "color": "#2a3f5f"
            },
            "marker": {
             "line": {
              "color": "#E5ECF6",
              "width": 0.5
             },
             "pattern": {
              "fillmode": "overlay",
              "size": 10,
              "solidity": 0.2
             }
            },
            "type": "bar"
           }
          ],
          "barpolar": [
           {
            "marker": {
             "line": {
              "color": "#E5ECF6",
              "width": 0.5
             },
             "pattern": {
              "fillmode": "overlay",
              "size": 10,
              "solidity": 0.2
             }
            },
            "type": "barpolar"
           }
          ],
          "carpet": [
           {
            "aaxis": {
             "endlinecolor": "#2a3f5f",
             "gridcolor": "white",
             "linecolor": "white",
             "minorgridcolor": "white",
             "startlinecolor": "#2a3f5f"
            },
            "baxis": {
             "endlinecolor": "#2a3f5f",
             "gridcolor": "white",
             "linecolor": "white",
             "minorgridcolor": "white",
             "startlinecolor": "#2a3f5f"
            },
            "type": "carpet"
           }
          ],
          "choropleth": [
           {
            "colorbar": {
             "outlinewidth": 0,
             "ticks": ""
            },
            "type": "choropleth"
           }
          ],
          "contour": [
           {
            "colorbar": {
             "outlinewidth": 0,
             "ticks": ""
            },
            "colorscale": [
             [
              0,
              "#0d0887"
             ],
             [
              0.1111111111111111,
              "#46039f"
             ],
             [
              0.2222222222222222,
              "#7201a8"
             ],
             [
              0.3333333333333333,
              "#9c179e"
             ],
             [
              0.4444444444444444,
              "#bd3786"
             ],
             [
              0.5555555555555556,
              "#d8576b"
             ],
             [
              0.6666666666666666,
              "#ed7953"
             ],
             [
              0.7777777777777778,
              "#fb9f3a"
             ],
             [
              0.8888888888888888,
              "#fdca26"
             ],
             [
              1,
              "#f0f921"
             ]
            ],
            "type": "contour"
           }
          ],
          "contourcarpet": [
           {
            "colorbar": {
             "outlinewidth": 0,
             "ticks": ""
            },
            "type": "contourcarpet"
           }
          ],
          "heatmap": [
           {
            "colorbar": {
             "outlinewidth": 0,
             "ticks": ""
            },
            "colorscale": [
             [
              0,
              "#0d0887"
             ],
             [
              0.1111111111111111,
              "#46039f"
             ],
             [
              0.2222222222222222,
              "#7201a8"
             ],
             [
              0.3333333333333333,
              "#9c179e"
             ],
             [
              0.4444444444444444,
              "#bd3786"
             ],
             [
              0.5555555555555556,
              "#d8576b"
             ],
             [
              0.6666666666666666,
              "#ed7953"
             ],
             [
              0.7777777777777778,
              "#fb9f3a"
             ],
             [
              0.8888888888888888,
              "#fdca26"
             ],
             [
              1,
              "#f0f921"
             ]
            ],
            "type": "heatmap"
           }
          ],
          "histogram": [
           {
            "marker": {
             "pattern": {
              "fillmode": "overlay",
              "size": 10,
              "solidity": 0.2
             }
            },
            "type": "histogram"
           }
          ],
          "histogram2d": [
           {
            "colorbar": {
             "outlinewidth": 0,
             "ticks": ""
            },
            "colorscale": [
             [
              0,
              "#0d0887"
             ],
             [
              0.1111111111111111,
              "#46039f"
             ],
             [
              0.2222222222222222,
              "#7201a8"
             ],
             [
              0.3333333333333333,
              "#9c179e"
             ],
             [
              0.4444444444444444,
              "#bd3786"
             ],
             [
              0.5555555555555556,
              "#d8576b"
             ],
             [
              0.6666666666666666,
              "#ed7953"
             ],
             [
              0.7777777777777778,
              "#fb9f3a"
             ],
             [
              0.8888888888888888,
              "#fdca26"
             ],
             [
              1,
              "#f0f921"
             ]
            ],
            "type": "histogram2d"
           }
          ],
          "histogram2dcontour": [
           {
            "colorbar": {
             "outlinewidth": 0,
             "ticks": ""
            },
            "colorscale": [
             [
              0,
              "#0d0887"
             ],
             [
              0.1111111111111111,
              "#46039f"
             ],
             [
              0.2222222222222222,
              "#7201a8"
             ],
             [
              0.3333333333333333,
              "#9c179e"
             ],
             [
              0.4444444444444444,
              "#bd3786"
             ],
             [
              0.5555555555555556,
              "#d8576b"
             ],
             [
              0.6666666666666666,
              "#ed7953"
             ],
             [
              0.7777777777777778,
              "#fb9f3a"
             ],
             [
              0.8888888888888888,
              "#fdca26"
             ],
             [
              1,
              "#f0f921"
             ]
            ],
            "type": "histogram2dcontour"
           }
          ],
          "mesh3d": [
           {
            "colorbar": {
             "outlinewidth": 0,
             "ticks": ""
            },
            "type": "mesh3d"
           }
          ],
          "parcoords": [
           {
            "line": {
             "colorbar": {
              "outlinewidth": 0,
              "ticks": ""
             }
            },
            "type": "parcoords"
           }
          ],
          "pie": [
           {
            "automargin": true,
            "type": "pie"
           }
          ],
          "scatter": [
           {
            "fillpattern": {
             "fillmode": "overlay",
             "size": 10,
             "solidity": 0.2
            },
            "type": "scatter"
           }
          ],
          "scatter3d": [
           {
            "line": {
             "colorbar": {
              "outlinewidth": 0,
              "ticks": ""
             }
            },
            "marker": {
             "colorbar": {
              "outlinewidth": 0,
              "ticks": ""
             }
            },
            "type": "scatter3d"
           }
          ],
          "scattercarpet": [
           {
            "marker": {
             "colorbar": {
              "outlinewidth": 0,
              "ticks": ""
             }
            },
            "type": "scattercarpet"
           }
          ],
          "scattergeo": [
           {
            "marker": {
             "colorbar": {
              "outlinewidth": 0,
              "ticks": ""
             }
            },
            "type": "scattergeo"
           }
          ],
          "scattergl": [
           {
            "marker": {
             "colorbar": {
              "outlinewidth": 0,
              "ticks": ""
             }
            },
            "type": "scattergl"
           }
          ],
          "scattermap": [
           {
            "marker": {
             "colorbar": {
              "outlinewidth": 0,
              "ticks": ""
             }
            },
            "type": "scattermap"
           }
          ],
          "scattermapbox": [
           {
            "marker": {
             "colorbar": {
              "outlinewidth": 0,
              "ticks": ""
             }
            },
            "type": "scattermapbox"
           }
          ],
          "scatterpolar": [
           {
            "marker": {
             "colorbar": {
              "outlinewidth": 0,
              "ticks": ""
             }
            },
            "type": "scatterpolar"
           }
          ],
          "scatterpolargl": [
           {
            "marker": {
             "colorbar": {
              "outlinewidth": 0,
              "ticks": ""
             }
            },
            "type": "scatterpolargl"
           }
          ],
          "scatterternary": [
           {
            "marker": {
             "colorbar": {
              "outlinewidth": 0,
              "ticks": ""
             }
            },
            "type": "scatterternary"
           }
          ],
          "surface": [
           {
            "colorbar": {
             "outlinewidth": 0,
             "ticks": ""
            },
            "colorscale": [
             [
              0,
              "#0d0887"
             ],
             [
              0.1111111111111111,
              "#46039f"
             ],
             [
              0.2222222222222222,
              "#7201a8"
             ],
             [
              0.3333333333333333,
              "#9c179e"
             ],
             [
              0.4444444444444444,
              "#bd3786"
             ],
             [
              0.5555555555555556,
              "#d8576b"
             ],
             [
              0.6666666666666666,
              "#ed7953"
             ],
             [
              0.7777777777777778,
              "#fb9f3a"
             ],
             [
              0.8888888888888888,
              "#fdca26"
             ],
             [
              1,
              "#f0f921"
             ]
            ],
            "type": "surface"
           }
          ],
          "table": [
           {
            "cells": {
             "fill": {
              "color": "#EBF0F8"
             },
             "line": {
              "color": "white"
             }
            },
            "header": {
             "fill": {
              "color": "#C8D4E3"
             },
             "line": {
              "color": "white"
             }
            },
            "type": "table"
           }
          ]
         },
         "layout": {
          "annotationdefaults": {
           "arrowcolor": "#2a3f5f",
           "arrowhead": 0,
           "arrowwidth": 1
          },
          "autotypenumbers": "strict",
          "coloraxis": {
           "colorbar": {
            "outlinewidth": 0,
            "ticks": ""
           }
          },
          "colorscale": {
           "diverging": [
            [
             0,
             "#8e0152"
            ],
            [
             0.1,
             "#c51b7d"
            ],
            [
             0.2,
             "#de77ae"
            ],
            [
             0.3,
             "#f1b6da"
            ],
            [
             0.4,
             "#fde0ef"
            ],
            [
             0.5,
             "#f7f7f7"
            ],
            [
             0.6,
             "#e6f5d0"
            ],
            [
             0.7,
             "#b8e186"
            ],
            [
             0.8,
             "#7fbc41"
            ],
            [
             0.9,
             "#4d9221"
            ],
            [
             1,
             "#276419"
            ]
           ],
           "sequential": [
            [
             0,
             "#0d0887"
            ],
            [
             0.1111111111111111,
             "#46039f"
            ],
            [
             0.2222222222222222,
             "#7201a8"
            ],
            [
             0.3333333333333333,
             "#9c179e"
            ],
            [
             0.4444444444444444,
             "#bd3786"
            ],
            [
             0.5555555555555556,
             "#d8576b"
            ],
            [
             0.6666666666666666,
             "#ed7953"
            ],
            [
             0.7777777777777778,
             "#fb9f3a"
            ],
            [
             0.8888888888888888,
             "#fdca26"
            ],
            [
             1,
             "#f0f921"
            ]
           ],
           "sequentialminus": [
            [
             0,
             "#0d0887"
            ],
            [
             0.1111111111111111,
             "#46039f"
            ],
            [
             0.2222222222222222,
             "#7201a8"
            ],
            [
             0.3333333333333333,
             "#9c179e"
            ],
            [
             0.4444444444444444,
             "#bd3786"
            ],
            [
             0.5555555555555556,
             "#d8576b"
            ],
            [
             0.6666666666666666,
             "#ed7953"
            ],
            [
             0.7777777777777778,
             "#fb9f3a"
            ],
            [
             0.8888888888888888,
             "#fdca26"
            ],
            [
             1,
             "#f0f921"
            ]
           ]
          },
          "colorway": [
           "#636efa",
           "#EF553B",
           "#00cc96",
           "#ab63fa",
           "#FFA15A",
           "#19d3f3",
           "#FF6692",
           "#B6E880",
           "#FF97FF",
           "#FECB52"
          ],
          "font": {
           "color": "#2a3f5f"
          },
          "geo": {
           "bgcolor": "white",
           "lakecolor": "white",
           "landcolor": "#E5ECF6",
           "showlakes": true,
           "showland": true,
           "subunitcolor": "white"
          },
          "hoverlabel": {
           "align": "left"
          },
          "hovermode": "closest",
          "mapbox": {
           "style": "light"
          },
          "paper_bgcolor": "white",
          "plot_bgcolor": "#E5ECF6",
          "polar": {
           "angularaxis": {
            "gridcolor": "white",
            "linecolor": "white",
            "ticks": ""
           },
           "bgcolor": "#E5ECF6",
           "radialaxis": {
            "gridcolor": "white",
            "linecolor": "white",
            "ticks": ""
           }
          },
          "scene": {
           "xaxis": {
            "backgroundcolor": "#E5ECF6",
            "gridcolor": "white",
            "gridwidth": 2,
            "linecolor": "white",
            "showbackground": true,
            "ticks": "",
            "zerolinecolor": "white"
           },
           "yaxis": {
            "backgroundcolor": "#E5ECF6",
            "gridcolor": "white",
            "gridwidth": 2,
            "linecolor": "white",
            "showbackground": true,
            "ticks": "",
            "zerolinecolor": "white"
           },
           "zaxis": {
            "backgroundcolor": "#E5ECF6",
            "gridcolor": "white",
            "gridwidth": 2,
            "linecolor": "white",
            "showbackground": true,
            "ticks": "",
            "zerolinecolor": "white"
           }
          },
          "shapedefaults": {
           "line": {
            "color": "#2a3f5f"
           }
          },
          "ternary": {
           "aaxis": {
            "gridcolor": "white",
            "linecolor": "white",
            "ticks": ""
           },
           "baxis": {
            "gridcolor": "white",
            "linecolor": "white",
            "ticks": ""
           },
           "bgcolor": "#E5ECF6",
           "caxis": {
            "gridcolor": "white",
            "linecolor": "white",
            "ticks": ""
           }
          },
          "title": {
           "x": 0.05
          },
          "xaxis": {
           "automargin": true,
           "gridcolor": "white",
           "linecolor": "white",
           "ticks": "",
           "title": {
            "standoff": 15
           },
           "zerolinecolor": "white",
           "zerolinewidth": 2
          },
          "yaxis": {
           "automargin": true,
           "gridcolor": "white",
           "linecolor": "white",
           "ticks": "",
           "title": {
            "standoff": 15
           },
           "zerolinecolor": "white",
           "zerolinewidth": 2
          }
         }
        },
        "updatemenus": [
         {
          "buttons": [
           {
            "args": [
             null,
             {
              "frame": {
               "duration": 500,
               "redraw": true
              },
              "fromcurrent": true,
              "mode": "immediate",
              "transition": {
               "duration": 500,
               "easing": "linear"
              }
             }
            ],
            "label": "&#9654;",
            "method": "animate"
           },
           {
            "args": [
             [
              null
             ],
             {
              "frame": {
               "duration": 0,
               "redraw": true
              },
              "fromcurrent": true,
              "mode": "immediate",
              "transition": {
               "duration": 0,
               "easing": "linear"
              }
             }
            ],
            "label": "&#9724;",
            "method": "animate"
           }
          ],
          "direction": "left",
          "pad": {
           "r": 10,
           "t": 70
          },
          "showactive": false,
          "type": "buttons",
          "x": 0.1,
          "xanchor": "right",
          "y": 0,
          "yanchor": "top"
         }
        ],
        "xaxis": {
         "anchor": "y",
         "domain": [
          0,
          1
         ],
         "range": [
          0,
          1176.5875
         ],
         "title": {
          "text": "Átlagos bérleti díj (€/hó)"
         }
        },
        "yaxis": {
         "anchor": "x",
         "categoryarray": [
          "Zágráb",
          "Varsó",
          "Tallinn",
          "Stockholm",
          "Sofia",
          "Róma",
          "Párizs",
          "Prága",
          "Oslo",
          "Madrid",
          "Ljubljana",
          "Koppenhága",
          "Helsinki",
          "Bécs",
          "Bukarest",
          "Budapest",
          "Brüsszel",
          "Berlin",
          "Athén",
          "Amszterdam"
         ],
         "categoryorder": "array",
         "domain": [
          0,
          1
         ],
         "title": {
          "text": "Város"
         }
        }
       }
      }
     },
     "metadata": {},
     "output_type": "display_data"
    }
   ],
   "source": [
    "custom_olive_brown = [\n",
    "    \"#7c8558\",  # olívazöld – alapszín\n",
    "]\n",
    "\n",
    "custom_white = [\n",
    "    \"#ffffff\",\n",
    "]\n",
    "\n",
    "# CSV beolvasása\n",
    "url = \"https://raw.githubusercontent.com/Andrea2002-06/Andrea2002-06.github.io/refs/heads/main/europai_lakhatasi_adatbazis.csv\"\n",
    "df = pd.read_csv(url)\n",
    "\n",
    "# Csak szükséges oszlopok\n",
    "df = df[['Város', 'Év', 'Bérleti díj (€/hó)']]\n",
    "df = df[df['Év'] % 1 == 0]\n",
    "df['Év'] = df['Év'].astype(int)\n",
    "\n",
    "# Átlagos bérleti díj városonként, évente\n",
    "df_avg = df.groupby(['Év', 'Város'])['Bérleti díj (€/hó)'].mean().reset_index()\n",
    "\n",
    "# Bar Chart Race — minden várossal\n",
    "fig = px.bar(\n",
    "    df_avg,\n",
    "    x='Bérleti díj (€/hó)',\n",
    "    y='Város',\n",
    "    color='Város',\n",
    "    orientation='h',\n",
    "    animation_frame='Év',\n",
    "    range_x=[0, df_avg['Bérleti díj (€/hó)'].max() * 1.1],\n",
    "    height=700,\n",
    "    color_discrete_sequence=custom_olive_brown\n",
    ")\n",
    "fig.update_layout(                        # barna szöveg\n",
    "    showlegend=False,\n",
    "    margin=dict(l=80, r=40, t=20, b=60)\n",
    ") \n",
    "\n",
    "fig.update_layout(\n",
    "    hoverlabel=dict(\n",
    "        bgcolor=\"#ffffff\",  # világos zöld háttér\n",
    "        font_size=14,\n",
    "        font_family=\"Arial\"\n",
    "    )\n",
    ")\n",
    "\n",
    "fig.write_html(\"bar_chart_race.html\", include_plotlyjs='cdn')\n",
    "\n",
    "fig.update_layout(\n",
    "    xaxis_title=\"Átlagos bérleti díj (€/hó)\",\n",
    "    yaxis_title=\"Város\",\n",
    "    showlegend=False\n",
    ")\n",
    "\n",
    "fig.show()\n",
    "fig.write_html(\"bar_chart_race.html\", auto_open=False)\n"
   ]
  },
  {
   "cell_type": "code",
   "execution_count": null,
   "metadata": {},
   "outputs": [],
   "source": [
    "\n"
   ]
  }
 ],
 "metadata": {
  "kernelspec": {
   "display_name": "Python 3",
   "language": "python",
   "name": "python3"
  },
  "language_info": {
   "codemirror_mode": {
    "name": "ipython",
    "version": 3
   },
   "file_extension": ".py",
   "mimetype": "text/x-python",
   "name": "python",
   "nbconvert_exporter": "python",
   "pygments_lexer": "ipython3",
   "version": "3.13.3"
  }
 },
 "nbformat": 4,
 "nbformat_minor": 2
}
