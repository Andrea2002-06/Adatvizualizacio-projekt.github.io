{
 "cells": [
  {
   "cell_type": "markdown",
   "metadata": {},
   "source": [
    "Ez Python "
   ]
  },
  {
   "cell_type": "code",
   "execution_count": 1,
   "metadata": {},
   "outputs": [
    {
     "data": {
      "text/plain": [
       "11"
      ]
     },
     "execution_count": 1,
     "metadata": {},
     "output_type": "execute_result"
    }
   ],
   "source": [
    "a=5\n",
    "b=6\n",
    "a+b"
   ]
  },
  {
   "cell_type": "code",
   "execution_count": 2,
   "metadata": {},
   "outputs": [],
   "source": [
    "import altair as alt\n",
    "from vega_datasets import data\n",
    "import pandas as pd\n",
    "\n",
    "# Load the countries topology data\n",
    "countries = alt.topo_feature(data.world_110m.url, 'countries')\n",
    "\n",
    "# Create a base map focused on Europe\n",
    "europe_map = alt.Chart(countries).mark_geoshape(\n",
    "    fill='lightgray',\n",
    "    stroke='white'\n",
    ").project(\n",
    "    'mercator',\n",
    "    scale=500,\n",
    "    center=[15, 55]  # Centered roughly on Europe\n",
    ").properties(\n",
    "    width=600,\n",
    "    height=400,\n",
    "    title='Map of Europe'\n",
    ").configure_view(\n",
    "    strokeWidth=0\n",
    ")\n",
    "\n"
   ]
  },
  {
   "cell_type": "code",
   "execution_count": null,
   "metadata": {},
   "outputs": [],
   "source": [
    "import altair as alt\n",
    "import pandas as pd\n",
    "\n",
    "# Read the CSV file\n",
    "df = pd.read_csv('european_housing_database_english.csv')\n",
    "\n",
    "# Calculate average metrics for each city\n",
    "city_metrics = df.groupby('City').agg({\n",
    "    'Rent': 'mean',\n",
    "    'Income': 'mean',\n",
    "    'Housing cost ratio (%)': 'mean'\n",
    "}).reset_index()\n",
    "\n",
    "# Get the top 5 cities by housing cost ratio\n",
    "top_5_cities = city_metrics.nlargest(5, 'Housing cost ratio (%)')\n",
    "\n",
    "# Melt the dataframe for visualization\n",
    "top_5_melted = top_5_cities.melt(\n",
    "    id_vars=['City'],\n",
    "    value_vars=['Rent', 'Income', 'Housing cost ratio (%)'],\n",
    "    var_name='Metric',\n",
    "    value_name='Value'\n",
    ")\n",
    "\n",
    "# Create the visualization\n",
    "chart = alt.Chart(top_5_melted).mark_bar().encode(\n",
    "    x=alt.X('City:N', \n",
    "            title='Cities',\n",
    "            sort='-y',\n",
    "            axis=alt.Axis(labelAngle=-45)),\n",
    "    y=alt.Y('Value:Q',\n",
    "            title='Value (€ for Rent/Income, % for Ratio)'),\n",
    "    color=alt.Color('Metric:N',\n",
    "                    scale=alt.Scale(scheme='set2'),\n",
    "                    legend=alt.Legend(title='Metrics')),\n",
    "    tooltip=['City', 'Metric', 'Value']\n",
    ").properties(\n",
    "    width=600,\n",
    "    height=400,\n",
    "    title='Housing Metrics for Top 5 Most Expensive Cities (by Housing Cost Ratio)'\n",
    ").configure_axis(\n",
    "    labelFontSize=12,\n",
    "    titleFontSize=14\n",
    ").configure_title(\n",
    "    fontSize=16\n",
    ")\n",
    "\n",
    "chart"
   ]
  }
 ],
 "metadata": {
  "kernelspec": {
   "display_name": "Python 3",
   "language": "python",
   "name": "python3"
  },
  "language_info": {
   "codemirror_mode": {
    "name": "ipython",
    "version": 3
   },
   "file_extension": ".py",
   "mimetype": "text/x-python",
   "name": "python",
   "nbconvert_exporter": "python",
   "pygments_lexer": "ipython3",
   "version": "3.13.3"
  }
 },
 "nbformat": 4,
 "nbformat_minor": 2
}
